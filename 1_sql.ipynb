{
 "cells": [
  {
   "cell_type": "code",
   "execution_count": 1,
   "id": "6110509f",
   "metadata": {},
   "outputs": [],
   "source": [
    "import mysql.connector as conn "
   ]
  },
  {
   "cell_type": "code",
   "execution_count": 2,
   "id": "7438ab3f",
   "metadata": {},
   "outputs": [],
   "source": [
    "mydb = conn.connect(host='localhost', user='root', password='Mychoice.77') "
   ]
  },
  {
   "cell_type": "code",
   "execution_count": 3,
   "id": "265b2496",
   "metadata": {},
   "outputs": [
    {
     "data": {
      "text/plain": [
       "<mysql.connector.connection_cext.CMySQLConnection at 0x226aba99c40>"
      ]
     },
     "execution_count": 3,
     "metadata": {},
     "output_type": "execute_result"
    }
   ],
   "source": [
    "mydb "
   ]
  },
  {
   "cell_type": "code",
   "execution_count": 4,
   "id": "3cc4ff56",
   "metadata": {},
   "outputs": [],
   "source": [
    "cursor = mydb.cursor()"
   ]
  },
  {
   "cell_type": "code",
   "execution_count": 5,
   "id": "a9f82ba9",
   "metadata": {},
   "outputs": [],
   "source": [
    "# url = 'create database org'\n",
    "# cursor.execute(url)"
   ]
  },
  {
   "cell_type": "code",
   "execution_count": 6,
   "id": "f870a032",
   "metadata": {},
   "outputs": [
    {
     "data": {
      "text/plain": [
       "[('cardataset',),\n",
       " ('employee',),\n",
       " ('fifa19',),\n",
       " ('in_class',),\n",
       " ('information_schema',),\n",
       " ('mysql',),\n",
       " ('new_db',),\n",
       " ('org',),\n",
       " ('performance_schema',),\n",
       " ('sakila',),\n",
       " ('student',),\n",
       " ('sys',),\n",
       " ('world',)]"
      ]
     },
     "execution_count": 6,
     "metadata": {},
     "output_type": "execute_result"
    }
   ],
   "source": [
    "url = 'show databases'\n",
    "cursor.execute(url)\n",
    "cursor.fetchall()"
   ]
  },
  {
   "cell_type": "code",
   "execution_count": 7,
   "id": "c7ab5990",
   "metadata": {},
   "outputs": [],
   "source": [
    "url = 'use org'\n",
    "cursor.execute(url)"
   ]
  },
  {
   "cell_type": "code",
   "execution_count": 8,
   "id": "6e6b63d0",
   "metadata": {},
   "outputs": [],
   "source": [
    "# url = '''create table worker(\n",
    "# worker_id int(10), \n",
    "# first_name varchar(10), \n",
    "# last_name varchar(10), \n",
    "# salary int(10), \n",
    "# joining_date datetime,\n",
    "# department varchar(10))''' \n",
    "\n",
    "# cursor.execute(url)"
   ]
  },
  {
   "cell_type": "code",
   "execution_count": 9,
   "id": "4d1bff20",
   "metadata": {},
   "outputs": [
    {
     "data": {
      "text/plain": [
       "[('worker',)]"
      ]
     },
     "execution_count": 9,
     "metadata": {},
     "output_type": "execute_result"
    }
   ],
   "source": [
    "url = '''show tables'''\n",
    "cursor.execute(url)\n",
    "cursor.fetchall()"
   ]
  },
  {
   "cell_type": "code",
   "execution_count": 10,
   "id": "6759de3e",
   "metadata": {},
   "outputs": [],
   "source": [
    "url = '''INSERT INTO worker \n",
    "\t(worker_id, first_name, last_name, salary, joining_date, department) VALUES\n",
    "\t\t(001, 'Monika', 'Arora', 100000, '14-02-20 09.00.00', 'HR'),\n",
    "\t\t(002, 'Niharika', 'Verma', 80000, '14-06-11 09.00.00', 'Admin'),\n",
    "\t\t(003, 'Vishal', 'Singhal', 300000, '14-02-20 09.00.00', 'HR'),\n",
    "\t\t(004, 'Amitabh', 'Singh', 500000, '14-02-20 09.00.00', 'Admin'),\n",
    "\t\t(005, 'Vivek', 'Bhati', 500000, '14-06-11 09.00.00', 'Admin'),\n",
    "\t\t(006, 'Vipul', 'Diwan', 200000, '14-06-11 09.00.00', 'Account'),\n",
    "\t\t(007, 'Satish', 'Kumar', 75000, '14-01-20 09.00.00', 'Account'),\n",
    "\t\t(008, 'Geetika', 'Chauhan', 90000, '14-04-11 09.00.00', 'Admin');'''\n",
    "\n",
    "cursor.execute(url)\n",
    "mydb.commit()"
   ]
  },
  {
   "cell_type": "code",
   "execution_count": 11,
   "id": "ae781192",
   "metadata": {
    "scrolled": true
   },
   "outputs": [
    {
     "data": {
      "text/plain": [
       "[(1, 'Monika', 'Arora', 100000, datetime.datetime(2014, 2, 20, 9, 0), 'HR'),\n",
       " (2,\n",
       "  'Niharika',\n",
       "  'Verma',\n",
       "  80000,\n",
       "  datetime.datetime(2014, 6, 11, 9, 0),\n",
       "  'Admin'),\n",
       " (3, 'Vishal', 'Singhal', 300000, datetime.datetime(2014, 2, 20, 9, 0), 'HR'),\n",
       " (4,\n",
       "  'Amitabh',\n",
       "  'Singh',\n",
       "  500000,\n",
       "  datetime.datetime(2014, 2, 20, 9, 0),\n",
       "  'Admin'),\n",
       " (5, 'Vivek', 'Bhati', 500000, datetime.datetime(2014, 6, 11, 9, 0), 'Admin'),\n",
       " (6,\n",
       "  'Vipul',\n",
       "  'Diwan',\n",
       "  200000,\n",
       "  datetime.datetime(2014, 6, 11, 9, 0),\n",
       "  'Account'),\n",
       " (7,\n",
       "  'Satish',\n",
       "  'Kumar',\n",
       "  75000,\n",
       "  datetime.datetime(2014, 1, 20, 9, 0),\n",
       "  'Account'),\n",
       " (8,\n",
       "  'Geetika',\n",
       "  'Chauhan',\n",
       "  90000,\n",
       "  datetime.datetime(2014, 4, 11, 9, 0),\n",
       "  'Admin'),\n",
       " (1, 'Monika', 'Arora', 100000, datetime.datetime(2014, 2, 20, 9, 0), 'HR'),\n",
       " (2,\n",
       "  'Niharika',\n",
       "  'Verma',\n",
       "  80000,\n",
       "  datetime.datetime(2014, 6, 11, 9, 0),\n",
       "  'Admin'),\n",
       " (3, 'Vishal', 'Singhal', 300000, datetime.datetime(2014, 2, 20, 9, 0), 'HR'),\n",
       " (4,\n",
       "  'Amitabh',\n",
       "  'Singh',\n",
       "  500000,\n",
       "  datetime.datetime(2014, 2, 20, 9, 0),\n",
       "  'Admin'),\n",
       " (5, 'Vivek', 'Bhati', 500000, datetime.datetime(2014, 6, 11, 9, 0), 'Admin'),\n",
       " (6,\n",
       "  'Vipul',\n",
       "  'Diwan',\n",
       "  200000,\n",
       "  datetime.datetime(2014, 6, 11, 9, 0),\n",
       "  'Account'),\n",
       " (7,\n",
       "  'Satish',\n",
       "  'Kumar',\n",
       "  75000,\n",
       "  datetime.datetime(2014, 1, 20, 9, 0),\n",
       "  'Account'),\n",
       " (8,\n",
       "  'Geetika',\n",
       "  'Chauhan',\n",
       "  90000,\n",
       "  datetime.datetime(2014, 4, 11, 9, 0),\n",
       "  'Admin')]"
      ]
     },
     "execution_count": 11,
     "metadata": {},
     "output_type": "execute_result"
    }
   ],
   "source": [
    "url = '''select * from worker''' \n",
    "\n",
    "cursor.execute(url) \n",
    "cursor.fetchall()"
   ]
  },
  {
   "cell_type": "code",
   "execution_count": 12,
   "id": "12fc307e",
   "metadata": {},
   "outputs": [],
   "source": [
    "url = '''alter table worker \n",
    "rename column worker_id to WORKER_ID, \n",
    "rename column first_name to FIRST_NAME, \n",
    "rename column last_name to LAST_NAME, \n",
    "rename column salary to SALARY, \n",
    "rename column joining_date to JOINING_DATE, \n",
    "rename column department to DEPARTMENT'''\n",
    "\n",
    "cursor.execute(url)"
   ]
  },
  {
   "cell_type": "code",
   "execution_count": 13,
   "id": "7f419758",
   "metadata": {},
   "outputs": [
    {
     "name": "stderr",
     "output_type": "stream",
     "text": [
      "C:\\Users\\ipawa\\anaconda3\\lib\\site-packages\\pandas\\io\\sql.py:761: UserWarning: pandas only support SQLAlchemy connectable(engine/connection) ordatabase string URI or sqlite3 DBAPI2 connectionother DBAPI2 objects are not tested, please consider using SQLAlchemy\n",
      "  warnings.warn(\n"
     ]
    },
    {
     "data": {
      "text/html": [
       "<div>\n",
       "<style scoped>\n",
       "    .dataframe tbody tr th:only-of-type {\n",
       "        vertical-align: middle;\n",
       "    }\n",
       "\n",
       "    .dataframe tbody tr th {\n",
       "        vertical-align: top;\n",
       "    }\n",
       "\n",
       "    .dataframe thead th {\n",
       "        text-align: right;\n",
       "    }\n",
       "</style>\n",
       "<table border=\"1\" class=\"dataframe\">\n",
       "  <thead>\n",
       "    <tr style=\"text-align: right;\">\n",
       "      <th></th>\n",
       "      <th>WORKER_ID</th>\n",
       "      <th>FIRST_NAME</th>\n",
       "      <th>LAST_NAME</th>\n",
       "      <th>SALARY</th>\n",
       "      <th>JOINING_DATE</th>\n",
       "      <th>DEPARTMENT</th>\n",
       "    </tr>\n",
       "  </thead>\n",
       "  <tbody>\n",
       "    <tr>\n",
       "      <th>0</th>\n",
       "      <td>1</td>\n",
       "      <td>Monika</td>\n",
       "      <td>Arora</td>\n",
       "      <td>100000</td>\n",
       "      <td>2014-02-20 09:00:00</td>\n",
       "      <td>HR</td>\n",
       "    </tr>\n",
       "    <tr>\n",
       "      <th>1</th>\n",
       "      <td>2</td>\n",
       "      <td>Niharika</td>\n",
       "      <td>Verma</td>\n",
       "      <td>80000</td>\n",
       "      <td>2014-06-11 09:00:00</td>\n",
       "      <td>Admin</td>\n",
       "    </tr>\n",
       "    <tr>\n",
       "      <th>2</th>\n",
       "      <td>3</td>\n",
       "      <td>Vishal</td>\n",
       "      <td>Singhal</td>\n",
       "      <td>300000</td>\n",
       "      <td>2014-02-20 09:00:00</td>\n",
       "      <td>HR</td>\n",
       "    </tr>\n",
       "    <tr>\n",
       "      <th>3</th>\n",
       "      <td>4</td>\n",
       "      <td>Amitabh</td>\n",
       "      <td>Singh</td>\n",
       "      <td>500000</td>\n",
       "      <td>2014-02-20 09:00:00</td>\n",
       "      <td>Admin</td>\n",
       "    </tr>\n",
       "    <tr>\n",
       "      <th>4</th>\n",
       "      <td>5</td>\n",
       "      <td>Vivek</td>\n",
       "      <td>Bhati</td>\n",
       "      <td>500000</td>\n",
       "      <td>2014-06-11 09:00:00</td>\n",
       "      <td>Admin</td>\n",
       "    </tr>\n",
       "    <tr>\n",
       "      <th>5</th>\n",
       "      <td>6</td>\n",
       "      <td>Vipul</td>\n",
       "      <td>Diwan</td>\n",
       "      <td>200000</td>\n",
       "      <td>2014-06-11 09:00:00</td>\n",
       "      <td>Account</td>\n",
       "    </tr>\n",
       "    <tr>\n",
       "      <th>6</th>\n",
       "      <td>7</td>\n",
       "      <td>Satish</td>\n",
       "      <td>Kumar</td>\n",
       "      <td>75000</td>\n",
       "      <td>2014-01-20 09:00:00</td>\n",
       "      <td>Account</td>\n",
       "    </tr>\n",
       "    <tr>\n",
       "      <th>7</th>\n",
       "      <td>8</td>\n",
       "      <td>Geetika</td>\n",
       "      <td>Chauhan</td>\n",
       "      <td>90000</td>\n",
       "      <td>2014-04-11 09:00:00</td>\n",
       "      <td>Admin</td>\n",
       "    </tr>\n",
       "    <tr>\n",
       "      <th>8</th>\n",
       "      <td>1</td>\n",
       "      <td>Monika</td>\n",
       "      <td>Arora</td>\n",
       "      <td>100000</td>\n",
       "      <td>2014-02-20 09:00:00</td>\n",
       "      <td>HR</td>\n",
       "    </tr>\n",
       "    <tr>\n",
       "      <th>9</th>\n",
       "      <td>2</td>\n",
       "      <td>Niharika</td>\n",
       "      <td>Verma</td>\n",
       "      <td>80000</td>\n",
       "      <td>2014-06-11 09:00:00</td>\n",
       "      <td>Admin</td>\n",
       "    </tr>\n",
       "    <tr>\n",
       "      <th>10</th>\n",
       "      <td>3</td>\n",
       "      <td>Vishal</td>\n",
       "      <td>Singhal</td>\n",
       "      <td>300000</td>\n",
       "      <td>2014-02-20 09:00:00</td>\n",
       "      <td>HR</td>\n",
       "    </tr>\n",
       "    <tr>\n",
       "      <th>11</th>\n",
       "      <td>4</td>\n",
       "      <td>Amitabh</td>\n",
       "      <td>Singh</td>\n",
       "      <td>500000</td>\n",
       "      <td>2014-02-20 09:00:00</td>\n",
       "      <td>Admin</td>\n",
       "    </tr>\n",
       "    <tr>\n",
       "      <th>12</th>\n",
       "      <td>5</td>\n",
       "      <td>Vivek</td>\n",
       "      <td>Bhati</td>\n",
       "      <td>500000</td>\n",
       "      <td>2014-06-11 09:00:00</td>\n",
       "      <td>Admin</td>\n",
       "    </tr>\n",
       "    <tr>\n",
       "      <th>13</th>\n",
       "      <td>6</td>\n",
       "      <td>Vipul</td>\n",
       "      <td>Diwan</td>\n",
       "      <td>200000</td>\n",
       "      <td>2014-06-11 09:00:00</td>\n",
       "      <td>Account</td>\n",
       "    </tr>\n",
       "    <tr>\n",
       "      <th>14</th>\n",
       "      <td>7</td>\n",
       "      <td>Satish</td>\n",
       "      <td>Kumar</td>\n",
       "      <td>75000</td>\n",
       "      <td>2014-01-20 09:00:00</td>\n",
       "      <td>Account</td>\n",
       "    </tr>\n",
       "    <tr>\n",
       "      <th>15</th>\n",
       "      <td>8</td>\n",
       "      <td>Geetika</td>\n",
       "      <td>Chauhan</td>\n",
       "      <td>90000</td>\n",
       "      <td>2014-04-11 09:00:00</td>\n",
       "      <td>Admin</td>\n",
       "    </tr>\n",
       "  </tbody>\n",
       "</table>\n",
       "</div>"
      ],
      "text/plain": [
       "    WORKER_ID FIRST_NAME LAST_NAME  SALARY        JOINING_DATE DEPARTMENT\n",
       "0           1     Monika     Arora  100000 2014-02-20 09:00:00         HR\n",
       "1           2   Niharika     Verma   80000 2014-06-11 09:00:00      Admin\n",
       "2           3     Vishal   Singhal  300000 2014-02-20 09:00:00         HR\n",
       "3           4    Amitabh     Singh  500000 2014-02-20 09:00:00      Admin\n",
       "4           5      Vivek     Bhati  500000 2014-06-11 09:00:00      Admin\n",
       "5           6      Vipul     Diwan  200000 2014-06-11 09:00:00    Account\n",
       "6           7     Satish     Kumar   75000 2014-01-20 09:00:00    Account\n",
       "7           8    Geetika   Chauhan   90000 2014-04-11 09:00:00      Admin\n",
       "8           1     Monika     Arora  100000 2014-02-20 09:00:00         HR\n",
       "9           2   Niharika     Verma   80000 2014-06-11 09:00:00      Admin\n",
       "10          3     Vishal   Singhal  300000 2014-02-20 09:00:00         HR\n",
       "11          4    Amitabh     Singh  500000 2014-02-20 09:00:00      Admin\n",
       "12          5      Vivek     Bhati  500000 2014-06-11 09:00:00      Admin\n",
       "13          6      Vipul     Diwan  200000 2014-06-11 09:00:00    Account\n",
       "14          7     Satish     Kumar   75000 2014-01-20 09:00:00    Account\n",
       "15          8    Geetika   Chauhan   90000 2014-04-11 09:00:00      Admin"
      ]
     },
     "execution_count": 13,
     "metadata": {},
     "output_type": "execute_result"
    }
   ],
   "source": [
    "import pandas as pd \n",
    "\n",
    "url = '''select * from worker'''\n",
    "pd.read_sql(url, mydb, index_col=None)"
   ]
  },
  {
   "cell_type": "markdown",
   "id": "ad82de1d",
   "metadata": {},
   "source": [
    "# Write an SQL query to fetch “FIRST_NAME” from Worker table using the alias name as WORKER_NAME"
   ]
  },
  {
   "cell_type": "code",
   "execution_count": 14,
   "id": "202b8ce6",
   "metadata": {},
   "outputs": [
    {
     "name": "stderr",
     "output_type": "stream",
     "text": [
      "C:\\Users\\ipawa\\anaconda3\\lib\\site-packages\\pandas\\io\\sql.py:761: UserWarning: pandas only support SQLAlchemy connectable(engine/connection) ordatabase string URI or sqlite3 DBAPI2 connectionother DBAPI2 objects are not tested, please consider using SQLAlchemy\n",
      "  warnings.warn(\n"
     ]
    },
    {
     "data": {
      "text/html": [
       "<div>\n",
       "<style scoped>\n",
       "    .dataframe tbody tr th:only-of-type {\n",
       "        vertical-align: middle;\n",
       "    }\n",
       "\n",
       "    .dataframe tbody tr th {\n",
       "        vertical-align: top;\n",
       "    }\n",
       "\n",
       "    .dataframe thead th {\n",
       "        text-align: right;\n",
       "    }\n",
       "</style>\n",
       "<table border=\"1\" class=\"dataframe\">\n",
       "  <thead>\n",
       "    <tr style=\"text-align: right;\">\n",
       "      <th></th>\n",
       "      <th>WORKER_NAME</th>\n",
       "    </tr>\n",
       "  </thead>\n",
       "  <tbody>\n",
       "    <tr>\n",
       "      <th>0</th>\n",
       "      <td>Monika</td>\n",
       "    </tr>\n",
       "    <tr>\n",
       "      <th>1</th>\n",
       "      <td>Niharika</td>\n",
       "    </tr>\n",
       "    <tr>\n",
       "      <th>2</th>\n",
       "      <td>Vishal</td>\n",
       "    </tr>\n",
       "    <tr>\n",
       "      <th>3</th>\n",
       "      <td>Amitabh</td>\n",
       "    </tr>\n",
       "    <tr>\n",
       "      <th>4</th>\n",
       "      <td>Vivek</td>\n",
       "    </tr>\n",
       "    <tr>\n",
       "      <th>5</th>\n",
       "      <td>Vipul</td>\n",
       "    </tr>\n",
       "    <tr>\n",
       "      <th>6</th>\n",
       "      <td>Satish</td>\n",
       "    </tr>\n",
       "    <tr>\n",
       "      <th>7</th>\n",
       "      <td>Geetika</td>\n",
       "    </tr>\n",
       "    <tr>\n",
       "      <th>8</th>\n",
       "      <td>Monika</td>\n",
       "    </tr>\n",
       "    <tr>\n",
       "      <th>9</th>\n",
       "      <td>Niharika</td>\n",
       "    </tr>\n",
       "    <tr>\n",
       "      <th>10</th>\n",
       "      <td>Vishal</td>\n",
       "    </tr>\n",
       "    <tr>\n",
       "      <th>11</th>\n",
       "      <td>Amitabh</td>\n",
       "    </tr>\n",
       "    <tr>\n",
       "      <th>12</th>\n",
       "      <td>Vivek</td>\n",
       "    </tr>\n",
       "    <tr>\n",
       "      <th>13</th>\n",
       "      <td>Vipul</td>\n",
       "    </tr>\n",
       "    <tr>\n",
       "      <th>14</th>\n",
       "      <td>Satish</td>\n",
       "    </tr>\n",
       "    <tr>\n",
       "      <th>15</th>\n",
       "      <td>Geetika</td>\n",
       "    </tr>\n",
       "  </tbody>\n",
       "</table>\n",
       "</div>"
      ],
      "text/plain": [
       "   WORKER_NAME\n",
       "0       Monika\n",
       "1     Niharika\n",
       "2       Vishal\n",
       "3      Amitabh\n",
       "4        Vivek\n",
       "5        Vipul\n",
       "6       Satish\n",
       "7      Geetika\n",
       "8       Monika\n",
       "9     Niharika\n",
       "10      Vishal\n",
       "11     Amitabh\n",
       "12       Vivek\n",
       "13       Vipul\n",
       "14      Satish\n",
       "15     Geetika"
      ]
     },
     "execution_count": 14,
     "metadata": {},
     "output_type": "execute_result"
    }
   ],
   "source": [
    "url = '''\n",
    "SELECT FIRST_NAME AS WORKER_NAME \n",
    "FROM WORKER'''\n",
    "\n",
    "pd.read_sql(url, mydb)\n"
   ]
  },
  {
   "cell_type": "markdown",
   "id": "487199f3",
   "metadata": {},
   "source": [
    "# Write an SQL query to fetch unique values of DEPARTMENT from Worker table."
   ]
  },
  {
   "cell_type": "code",
   "execution_count": 15,
   "id": "b5e10f16",
   "metadata": {},
   "outputs": [
    {
     "name": "stderr",
     "output_type": "stream",
     "text": [
      "C:\\Users\\ipawa\\anaconda3\\lib\\site-packages\\pandas\\io\\sql.py:761: UserWarning: pandas only support SQLAlchemy connectable(engine/connection) ordatabase string URI or sqlite3 DBAPI2 connectionother DBAPI2 objects are not tested, please consider using SQLAlchemy\n",
      "  warnings.warn(\n"
     ]
    },
    {
     "data": {
      "text/html": [
       "<div>\n",
       "<style scoped>\n",
       "    .dataframe tbody tr th:only-of-type {\n",
       "        vertical-align: middle;\n",
       "    }\n",
       "\n",
       "    .dataframe tbody tr th {\n",
       "        vertical-align: top;\n",
       "    }\n",
       "\n",
       "    .dataframe thead th {\n",
       "        text-align: right;\n",
       "    }\n",
       "</style>\n",
       "<table border=\"1\" class=\"dataframe\">\n",
       "  <thead>\n",
       "    <tr style=\"text-align: right;\">\n",
       "      <th></th>\n",
       "      <th>DEPARTMENT</th>\n",
       "    </tr>\n",
       "  </thead>\n",
       "  <tbody>\n",
       "    <tr>\n",
       "      <th>0</th>\n",
       "      <td>HR</td>\n",
       "    </tr>\n",
       "    <tr>\n",
       "      <th>1</th>\n",
       "      <td>Admin</td>\n",
       "    </tr>\n",
       "    <tr>\n",
       "      <th>2</th>\n",
       "      <td>Account</td>\n",
       "    </tr>\n",
       "  </tbody>\n",
       "</table>\n",
       "</div>"
      ],
      "text/plain": [
       "  DEPARTMENT\n",
       "0         HR\n",
       "1      Admin\n",
       "2    Account"
      ]
     },
     "execution_count": 15,
     "metadata": {},
     "output_type": "execute_result"
    }
   ],
   "source": [
    "url = '''\n",
    "select distinct(DEPARTMENT) \n",
    "FROM worker\n",
    "'''\n",
    "\n",
    "pd.read_sql(url, mydb)"
   ]
  },
  {
   "cell_type": "markdown",
   "id": "afff7217",
   "metadata": {},
   "source": [
    "# Write an SQL query to show the last 5 record from a table."
   ]
  },
  {
   "cell_type": "code",
   "execution_count": 16,
   "id": "bf0a8c61",
   "metadata": {},
   "outputs": [
    {
     "name": "stderr",
     "output_type": "stream",
     "text": [
      "C:\\Users\\ipawa\\anaconda3\\lib\\site-packages\\pandas\\io\\sql.py:761: UserWarning: pandas only support SQLAlchemy connectable(engine/connection) ordatabase string URI or sqlite3 DBAPI2 connectionother DBAPI2 objects are not tested, please consider using SQLAlchemy\n",
      "  warnings.warn(\n"
     ]
    },
    {
     "data": {
      "text/html": [
       "<div>\n",
       "<style scoped>\n",
       "    .dataframe tbody tr th:only-of-type {\n",
       "        vertical-align: middle;\n",
       "    }\n",
       "\n",
       "    .dataframe tbody tr th {\n",
       "        vertical-align: top;\n",
       "    }\n",
       "\n",
       "    .dataframe thead th {\n",
       "        text-align: right;\n",
       "    }\n",
       "</style>\n",
       "<table border=\"1\" class=\"dataframe\">\n",
       "  <thead>\n",
       "    <tr style=\"text-align: right;\">\n",
       "      <th></th>\n",
       "      <th>WORKER_ID</th>\n",
       "      <th>FIRST_NAME</th>\n",
       "      <th>LAST_NAME</th>\n",
       "      <th>SALARY</th>\n",
       "      <th>JOINING_DATE</th>\n",
       "      <th>DEPARTMENT</th>\n",
       "    </tr>\n",
       "  </thead>\n",
       "  <tbody>\n",
       "    <tr>\n",
       "      <th>0</th>\n",
       "      <td>8</td>\n",
       "      <td>Geetika</td>\n",
       "      <td>Chauhan</td>\n",
       "      <td>90000</td>\n",
       "      <td>2014-04-11 09:00:00</td>\n",
       "      <td>Admin</td>\n",
       "    </tr>\n",
       "    <tr>\n",
       "      <th>1</th>\n",
       "      <td>8</td>\n",
       "      <td>Geetika</td>\n",
       "      <td>Chauhan</td>\n",
       "      <td>90000</td>\n",
       "      <td>2014-04-11 09:00:00</td>\n",
       "      <td>Admin</td>\n",
       "    </tr>\n",
       "    <tr>\n",
       "      <th>2</th>\n",
       "      <td>7</td>\n",
       "      <td>Satish</td>\n",
       "      <td>Kumar</td>\n",
       "      <td>75000</td>\n",
       "      <td>2014-01-20 09:00:00</td>\n",
       "      <td>Account</td>\n",
       "    </tr>\n",
       "    <tr>\n",
       "      <th>3</th>\n",
       "      <td>7</td>\n",
       "      <td>Satish</td>\n",
       "      <td>Kumar</td>\n",
       "      <td>75000</td>\n",
       "      <td>2014-01-20 09:00:00</td>\n",
       "      <td>Account</td>\n",
       "    </tr>\n",
       "    <tr>\n",
       "      <th>4</th>\n",
       "      <td>6</td>\n",
       "      <td>Vipul</td>\n",
       "      <td>Diwan</td>\n",
       "      <td>200000</td>\n",
       "      <td>2014-06-11 09:00:00</td>\n",
       "      <td>Account</td>\n",
       "    </tr>\n",
       "  </tbody>\n",
       "</table>\n",
       "</div>"
      ],
      "text/plain": [
       "   WORKER_ID FIRST_NAME LAST_NAME  SALARY        JOINING_DATE DEPARTMENT\n",
       "0          8    Geetika   Chauhan   90000 2014-04-11 09:00:00      Admin\n",
       "1          8    Geetika   Chauhan   90000 2014-04-11 09:00:00      Admin\n",
       "2          7     Satish     Kumar   75000 2014-01-20 09:00:00    Account\n",
       "3          7     Satish     Kumar   75000 2014-01-20 09:00:00    Account\n",
       "4          6      Vipul     Diwan  200000 2014-06-11 09:00:00    Account"
      ]
     },
     "execution_count": 16,
     "metadata": {},
     "output_type": "execute_result"
    }
   ],
   "source": [
    "url = '''\n",
    "select * from worker\n",
    "order by WORKER_ID desc\n",
    "limit 5''' \n",
    "\n",
    "pd.read_sql(url, mydb)"
   ]
  },
  {
   "cell_type": "code",
   "execution_count": 17,
   "id": "3eb974b6",
   "metadata": {},
   "outputs": [
    {
     "data": {
      "text/plain": [
       "<bound method CMySQLConnection.commit of <mysql.connector.connection_cext.CMySQLConnection object at 0x00000226ABA99C40>>"
      ]
     },
     "execution_count": 17,
     "metadata": {},
     "output_type": "execute_result"
    }
   ],
   "source": [
    "mydb.commit"
   ]
  },
  {
   "cell_type": "markdown",
   "id": "d4c46969",
   "metadata": {},
   "source": [
    "# Write an SQL query to print the first three characters of  FIRST_NAME from Worker table."
   ]
  },
  {
   "cell_type": "code",
   "execution_count": 19,
   "id": "646fb53f",
   "metadata": {},
   "outputs": [
    {
     "name": "stderr",
     "output_type": "stream",
     "text": [
      "C:\\Users\\ipawa\\anaconda3\\lib\\site-packages\\pandas\\io\\sql.py:761: UserWarning: pandas only support SQLAlchemy connectable(engine/connection) ordatabase string URI or sqlite3 DBAPI2 connectionother DBAPI2 objects are not tested, please consider using SQLAlchemy\n",
      "  warnings.warn(\n"
     ]
    },
    {
     "data": {
      "text/html": [
       "<div>\n",
       "<style scoped>\n",
       "    .dataframe tbody tr th:only-of-type {\n",
       "        vertical-align: middle;\n",
       "    }\n",
       "\n",
       "    .dataframe tbody tr th {\n",
       "        vertical-align: top;\n",
       "    }\n",
       "\n",
       "    .dataframe thead th {\n",
       "        text-align: right;\n",
       "    }\n",
       "</style>\n",
       "<table border=\"1\" class=\"dataframe\">\n",
       "  <thead>\n",
       "    <tr style=\"text-align: right;\">\n",
       "      <th></th>\n",
       "      <th>substring(FIRST_NAME, 1, 3)</th>\n",
       "    </tr>\n",
       "  </thead>\n",
       "  <tbody>\n",
       "    <tr>\n",
       "      <th>0</th>\n",
       "      <td>Mon</td>\n",
       "    </tr>\n",
       "    <tr>\n",
       "      <th>1</th>\n",
       "      <td>Nih</td>\n",
       "    </tr>\n",
       "    <tr>\n",
       "      <th>2</th>\n",
       "      <td>Vis</td>\n",
       "    </tr>\n",
       "    <tr>\n",
       "      <th>3</th>\n",
       "      <td>Ami</td>\n",
       "    </tr>\n",
       "    <tr>\n",
       "      <th>4</th>\n",
       "      <td>Viv</td>\n",
       "    </tr>\n",
       "    <tr>\n",
       "      <th>5</th>\n",
       "      <td>Vip</td>\n",
       "    </tr>\n",
       "    <tr>\n",
       "      <th>6</th>\n",
       "      <td>Sat</td>\n",
       "    </tr>\n",
       "    <tr>\n",
       "      <th>7</th>\n",
       "      <td>Gee</td>\n",
       "    </tr>\n",
       "    <tr>\n",
       "      <th>8</th>\n",
       "      <td>Mon</td>\n",
       "    </tr>\n",
       "    <tr>\n",
       "      <th>9</th>\n",
       "      <td>Nih</td>\n",
       "    </tr>\n",
       "    <tr>\n",
       "      <th>10</th>\n",
       "      <td>Vis</td>\n",
       "    </tr>\n",
       "    <tr>\n",
       "      <th>11</th>\n",
       "      <td>Ami</td>\n",
       "    </tr>\n",
       "    <tr>\n",
       "      <th>12</th>\n",
       "      <td>Viv</td>\n",
       "    </tr>\n",
       "    <tr>\n",
       "      <th>13</th>\n",
       "      <td>Vip</td>\n",
       "    </tr>\n",
       "    <tr>\n",
       "      <th>14</th>\n",
       "      <td>Sat</td>\n",
       "    </tr>\n",
       "    <tr>\n",
       "      <th>15</th>\n",
       "      <td>Gee</td>\n",
       "    </tr>\n",
       "  </tbody>\n",
       "</table>\n",
       "</div>"
      ],
      "text/plain": [
       "   substring(FIRST_NAME, 1, 3)\n",
       "0                          Mon\n",
       "1                          Nih\n",
       "2                          Vis\n",
       "3                          Ami\n",
       "4                          Viv\n",
       "5                          Vip\n",
       "6                          Sat\n",
       "7                          Gee\n",
       "8                          Mon\n",
       "9                          Nih\n",
       "10                         Vis\n",
       "11                         Ami\n",
       "12                         Viv\n",
       "13                         Vip\n",
       "14                         Sat\n",
       "15                         Gee"
      ]
     },
     "execution_count": 19,
     "metadata": {},
     "output_type": "execute_result"
    }
   ],
   "source": [
    "url = '''select substring(FIRST_NAME, 1, 3) from worker'''\n",
    "pd.read_sql(url, mydb)"
   ]
  },
  {
   "cell_type": "markdown",
   "id": "7410d2b2",
   "metadata": {},
   "source": [
    "# Write an SQL query to find the position of the alphabet (‘a’) in the first name column ‘Amitabh’ from Worker table."
   ]
  },
  {
   "cell_type": "code",
   "execution_count": 23,
   "id": "b9534f17",
   "metadata": {},
   "outputs": [
    {
     "name": "stderr",
     "output_type": "stream",
     "text": [
      "C:\\Users\\ipawa\\anaconda3\\lib\\site-packages\\pandas\\io\\sql.py:761: UserWarning: pandas only support SQLAlchemy connectable(engine/connection) ordatabase string URI or sqlite3 DBAPI2 connectionother DBAPI2 objects are not tested, please consider using SQLAlchemy\n",
      "  warnings.warn(\n"
     ]
    },
    {
     "data": {
      "text/html": [
       "<div>\n",
       "<style scoped>\n",
       "    .dataframe tbody tr th:only-of-type {\n",
       "        vertical-align: middle;\n",
       "    }\n",
       "\n",
       "    .dataframe tbody tr th {\n",
       "        vertical-align: top;\n",
       "    }\n",
       "\n",
       "    .dataframe thead th {\n",
       "        text-align: right;\n",
       "    }\n",
       "</style>\n",
       "<table border=\"1\" class=\"dataframe\">\n",
       "  <thead>\n",
       "    <tr style=\"text-align: right;\">\n",
       "      <th></th>\n",
       "      <th>FIRST_NAME</th>\n",
       "      <th>POSITION</th>\n",
       "    </tr>\n",
       "  </thead>\n",
       "  <tbody>\n",
       "    <tr>\n",
       "      <th>0</th>\n",
       "      <td>Amitabh</td>\n",
       "      <td>1</td>\n",
       "    </tr>\n",
       "    <tr>\n",
       "      <th>1</th>\n",
       "      <td>Amitabh</td>\n",
       "      <td>1</td>\n",
       "    </tr>\n",
       "  </tbody>\n",
       "</table>\n",
       "</div>"
      ],
      "text/plain": [
       "  FIRST_NAME  POSITION\n",
       "0    Amitabh         1\n",
       "1    Amitabh         1"
      ]
     },
     "execution_count": 23,
     "metadata": {},
     "output_type": "execute_result"
    }
   ],
   "source": [
    "# instr is case insensitive, using binary makes it case insensitive \n",
    "url = \"\"\"select FIRST_NAME, instr(FIRST_NAME, binary'a') as POSITION\n",
    "         from worker\n",
    "         where FIRST_NAME = 'Amitabh'\"\"\"\n",
    "pd.read_sql(url, mydb)"
   ]
  },
  {
   "cell_type": "markdown",
   "id": "2a4e8d7a",
   "metadata": {},
   "source": [
    "# Write an SQL query to print the name of employees having the highest salary in each department."
   ]
  },
  {
   "cell_type": "code",
   "execution_count": 21,
   "id": "7be89223",
   "metadata": {},
   "outputs": [
    {
     "data": {
      "text/html": [
       "<div>\n",
       "<style scoped>\n",
       "    .dataframe tbody tr th:only-of-type {\n",
       "        vertical-align: middle;\n",
       "    }\n",
       "\n",
       "    .dataframe tbody tr th {\n",
       "        vertical-align: top;\n",
       "    }\n",
       "\n",
       "    .dataframe thead th {\n",
       "        text-align: right;\n",
       "    }\n",
       "</style>\n",
       "<table border=\"1\" class=\"dataframe\">\n",
       "  <thead>\n",
       "    <tr style=\"text-align: right;\">\n",
       "      <th></th>\n",
       "      <th>DEPARTMENT</th>\n",
       "      <th>HIGHEST_SALARY</th>\n",
       "    </tr>\n",
       "  </thead>\n",
       "  <tbody>\n",
       "    <tr>\n",
       "      <th>0</th>\n",
       "      <td>HR</td>\n",
       "      <td>100000</td>\n",
       "    </tr>\n",
       "    <tr>\n",
       "      <th>1</th>\n",
       "      <td>Admin</td>\n",
       "      <td>80000</td>\n",
       "    </tr>\n",
       "    <tr>\n",
       "      <th>2</th>\n",
       "      <td>Account</td>\n",
       "      <td>200000</td>\n",
       "    </tr>\n",
       "  </tbody>\n",
       "</table>\n",
       "</div>"
      ],
      "text/plain": [
       "  DEPARTMENT  HIGHEST_SALARY\n",
       "0         HR          100000\n",
       "1      Admin           80000\n",
       "2    Account          200000"
      ]
     },
     "execution_count": 21,
     "metadata": {},
     "output_type": "execute_result"
    }
   ],
   "source": [
    "url = '''select DEPARTMENT, SALARY as HIGHEST_SALARY\n",
    "         from worker\n",
    "         group by DEPARTMENT''' \n",
    "pd.read_sql(url, mydb)"
   ]
  },
  {
   "cell_type": "code",
   "execution_count": null,
   "id": "5367365b",
   "metadata": {},
   "outputs": [],
   "source": []
  }
 ],
 "metadata": {
  "kernelspec": {
   "display_name": "Python 3 (ipykernel)",
   "language": "python",
   "name": "python3"
  },
  "language_info": {
   "codemirror_mode": {
    "name": "ipython",
    "version": 3
   },
   "file_extension": ".py",
   "mimetype": "text/x-python",
   "name": "python",
   "nbconvert_exporter": "python",
   "pygments_lexer": "ipython3",
   "version": "3.9.7"
  },
  "toc": {
   "base_numbering": 1,
   "nav_menu": {},
   "number_sections": true,
   "sideBar": true,
   "skip_h1_title": false,
   "title_cell": "Table of Contents",
   "title_sidebar": "Contents",
   "toc_cell": false,
   "toc_position": {},
   "toc_section_display": true,
   "toc_window_display": false
  }
 },
 "nbformat": 4,
 "nbformat_minor": 5
}
